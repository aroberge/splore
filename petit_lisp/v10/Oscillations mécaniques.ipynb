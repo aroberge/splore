{
 "metadata": {
  "name": "",
  "signature": "sha256:d69e90a093d5cb983466b31a89ef68009d5b5c92a54386fb8d935b61085694c6"
 },
 "nbformat": 3,
 "nbformat_minor": 0,
 "worksheets": [
  {
   "cells": [
    {
     "cell_type": "markdown",
     "metadata": {},
     "source": [
      "##Les oscillations m\u00e9caniques\n",
      "\n",
      "$$m\\ddot{x} + \\gamma \\dot{x} + kx = F(t)$$\n",
      "\n",
      "o\u00f9 $m$ est la masse, $x$ la position, $\\gamma$ une constante repr\u00e9sentant le frottement, $k$ une constante repr\u00e9sentant une force de rappel, et $F(t)$ une force externe.\n",
      "\n",
      "# Oscillations libres\n",
      "\n",
      "$$m\\ddot{x}+ kx = 0$$"
     ]
    },
    {
     "cell_type": "code",
     "collapsed": false,
     "input": [
      "import numpy as np\n",
      "import matplotlib.pyplot as plt\n",
      "%matplotlib inline"
     ],
     "language": "python",
     "metadata": {},
     "outputs": []
    }
   ],
   "metadata": {}
  }
 ]
}